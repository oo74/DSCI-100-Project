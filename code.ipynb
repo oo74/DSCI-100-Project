{
 "cells": [
  {
   "cell_type": "markdown",
   "id": "c652f507-2b6f-49d7-812f-0fe56533d4c4",
   "metadata": {},
   "source": [
    "arla's stuff\n",
    "\n",
    "personal pronouns?"
   ]
  },
  {
   "cell_type": "markdown",
   "id": "dc6996da-f35d-4fd0-93f3-d438b2014d02",
   "metadata": {},
   "source": [
    "The `subscribe` variable type needs to be converted from the logical to the factor type to be used as label for KNN classification––this can be done using `fct_recode()`. Only 2 observations were removed when observations with `NA` were removed, which should not have a drastic effect on our data. \n",
    "\n",
    "There are 142 individuals subscribed to the game's newsletter, and 52 who are not; the classes are not very balanced. Thus, upsampling should be performed during pre-processing to minimize the impact of unbalanced classes on classification."
   ]
  },
  {
   "cell_type": "code",
   "execution_count": 22,
   "id": "4841e92f-9cce-4da9-b456-6f1df23499ca",
   "metadata": {},
   "outputs": [
    {
     "name": "stderr",
     "output_type": "stream",
     "text": [
      "\u001b[1mRows: \u001b[22m\u001b[34m196\u001b[39m \u001b[1mColumns: \u001b[22m\u001b[34m7\u001b[39m\n",
      "\u001b[36m──\u001b[39m \u001b[1mColumn specification\u001b[22m \u001b[36m────────────────────────────────────────────────────────\u001b[39m\n",
      "\u001b[1mDelimiter:\u001b[22m \",\"\n",
      "\u001b[31mchr\u001b[39m (4): experience, hashedEmail, name, gender\n",
      "\u001b[32mdbl\u001b[39m (2): played_hours, Age\n",
      "\u001b[33mlgl\u001b[39m (1): subscribe\n",
      "\n",
      "\u001b[36mℹ\u001b[39m Use `spec()` to retrieve the full column specification for this data.\n",
      "\u001b[36mℹ\u001b[39m Specify the column types or set `show_col_types = FALSE` to quiet this message.\n"
     ]
    },
    {
     "data": {
      "text/html": [
       "2"
      ],
      "text/latex": [
       "2"
      ],
      "text/markdown": [
       "2"
      ],
      "text/plain": [
       "[1] 2"
      ]
     },
     "metadata": {},
     "output_type": "display_data"
    },
    {
     "data": {
      "text/html": [
       "<table class=\"dataframe\">\n",
       "<caption>A tibble: 2 × 2</caption>\n",
       "<thead>\n",
       "\t<tr><th scope=col>subscribe</th><th scope=col>count</th></tr>\n",
       "\t<tr><th scope=col>&lt;fct&gt;</th><th scope=col>&lt;int&gt;</th></tr>\n",
       "</thead>\n",
       "<tbody>\n",
       "\t<tr><td>No </td><td> 52</td></tr>\n",
       "\t<tr><td>Yes</td><td>142</td></tr>\n",
       "</tbody>\n",
       "</table>\n"
      ],
      "text/latex": [
       "A tibble: 2 × 2\n",
       "\\begin{tabular}{ll}\n",
       " subscribe & count\\\\\n",
       " <fct> & <int>\\\\\n",
       "\\hline\n",
       "\t No  &  52\\\\\n",
       "\t Yes & 142\\\\\n",
       "\\end{tabular}\n"
      ],
      "text/markdown": [
       "\n",
       "A tibble: 2 × 2\n",
       "\n",
       "| subscribe &lt;fct&gt; | count &lt;int&gt; |\n",
       "|---|---|\n",
       "| No  |  52 |\n",
       "| Yes | 142 |\n",
       "\n"
      ],
      "text/plain": [
       "  subscribe count\n",
       "1 No         52  \n",
       "2 Yes       142  "
      ]
     },
     "metadata": {},
     "output_type": "display_data"
    }
   ],
   "source": [
    "library(tidyverse)\n",
    "library(tidymodels)\n",
    "library(cowplot)\n",
    "library(repr)\n",
    "library(themis)\n",
    "\n",
    "set.seed(47)\n",
    "options(repr.plot.width = 14)\n",
    "\n",
    "players_url <- \"https://raw.githubusercontent.com/oo74/DSCI-100-Project/d932a95bab3bbe9a443dcba02939882b0735483f/data/players.csv\"\n",
    "players <- read_csv(players_url) |>\n",
    "    mutate(subscribe = fct_recode(as_factor(subscribe), Yes = \"TRUE\", No = \"FALSE\"))\n",
    "\n",
    "nrow(players) - nrow(drop_na(players))\n",
    "players <- drop_na(players)\n",
    "\n",
    "players |>\n",
    "    group_by(subscribe) |>\n",
    "    summarize(count = n())"
   ]
  },
  {
   "cell_type": "markdown",
   "id": "eeaa60da-ea9a-450c-a1fc-665d4a397197",
   "metadata": {},
   "source": [
    "If multiple K's had the same highest accuracy, the lowest K was selected for computational efficiency. \n",
    "\n",
    "what the hell does skip = TRUE do"
   ]
  },
  {
   "cell_type": "code",
   "execution_count": 40,
   "id": "8dcc95b4-7bba-4072-a138-f9fbc4df0f4d",
   "metadata": {},
   "outputs": [
    {
     "name": "stderr",
     "output_type": "stream",
     "text": [
      "→ \u001b[31m\u001b[1mA\u001b[22m\u001b[39m | \u001b[31merror\u001b[39m:   Some assessment set rows are not available at prediction time. Consider using `skip = TRUE` on any recipe steps that remove rows to avoid calling them on the assessment set.\n",
      "\n",
      "There were issues with some computations   \u001b[1m\u001b[31mA\u001b[39m\u001b[22m: x1\n",
      "\n",
      "There were issues with some computations   \u001b[1m\u001b[31mA\u001b[39m\u001b[22m: x5\n",
      "\n",
      "\n",
      "\n",
      "Warning message:\n",
      "“All models failed. Run `show_notes(.Last.tune.result)` for more information.”\n"
     ]
    },
    {
     "ename": "ERROR",
     "evalue": "\u001b[1m\u001b[33mError\u001b[39m in `estimate_tune_results()`:\u001b[22m\n\u001b[33m!\u001b[39m All models failed. Run `show_notes(.Last.tune.result)` for more information.\n",
     "output_type": "error",
     "traceback": [
      "\u001b[1m\u001b[33mError\u001b[39m in `estimate_tune_results()`:\u001b[22m\n\u001b[33m!\u001b[39m All models failed. Run `show_notes(.Last.tune.result)` for more information.\nTraceback:\n",
      "1. select(mutate(filter(collect_metrics(tune_grid(add_model(add_recipe(workflow(), \n .     players_recipe), players_spec), resamples = vfold_sets, grid = k_vals)), \n .     .metric == \"accuracy\"), accuracy = mean), neighbors, accuracy)",
      "2. mutate(filter(collect_metrics(tune_grid(add_model(add_recipe(workflow(), \n .     players_recipe), players_spec), resamples = vfold_sets, grid = k_vals)), \n .     .metric == \"accuracy\"), accuracy = mean)",
      "3. filter(collect_metrics(tune_grid(add_model(add_recipe(workflow(), \n .     players_recipe), players_spec), resamples = vfold_sets, grid = k_vals)), \n .     .metric == \"accuracy\")",
      "4. collect_metrics(tune_grid(add_model(add_recipe(workflow(), players_recipe), \n .     players_spec), resamples = vfold_sets, grid = k_vals))",
      "5. collect_metrics.tune_results(tune_grid(add_model(add_recipe(workflow(), \n .     players_recipe), players_spec), resamples = vfold_sets, grid = k_vals))",
      "6. estimate_tune_results(x)",
      "7. rlang::abort(\"All models failed. Run `show_notes(.Last.tune.result)` for more information.\")",
      "8. signal_abort(cnd, .file)"
     ]
    }
   ],
   "source": [
    "k_vals <- tibble(neighbors = 1:10)\n",
    "\n",
    "players_split <- initial_split(players, prop = 0.75, strata = subscribe)\n",
    "players_train <- training(players_split)\n",
    "players_test <- testing(players_split)\n",
    "\n",
    "players_recipe <- recipe(subscribe ~ played_hours + Age, data = players_train) |>\n",
    "    step_upsample(subscribe, over_ratio = 1, skip = FALSE) |>\n",
    "    step_center(all_predictors()) |>\n",
    "    step_scale(all_predictors()) \n",
    "\n",
    "players_spec <- nearest_neighbor(weight_func = \"rectangular\", neighbors = tune()) |>\n",
    "    set_engine(\"kknn\") |>\n",
    "    set_mode(\"classification\")\n",
    "\n",
    "vfold_sets <- players_train |>\n",
    "    vfold_cv(v = 5, strata = subscribe)\n",
    "\n",
    "k_accuracies <- workflow() |>\n",
    "    add_recipe(players_recipe) |>\n",
    "    add_model(players_spec) |>\n",
    "    tune_grid(resamples = vfold_sets, grid = k_vals) |>\n",
    "    collect_metrics() |>\n",
    "    filter(.metric == \"accuracy\") |>\n",
    "    mutate(accuracy = mean) |>\n",
    "    select(neighbors, accuracy)\n",
    "    \n",
    "k_accuracies_plot <- k_accuracies |>\n",
    "    ggplot(aes(x = neighbors, y = accuracy)) +\n",
    "    geom_point() +\n",
    "    geom_line() +\n",
    "    labs(x = \"Neighbors (K)\", y = \"Accuracy\", title = \"Fig. 1: Accuracies associated with various K values.\") +\n",
    "    theme(text = element_text(size = 12))\n",
    "\n",
    "best_k <- k_accuracies |>\n",
    "    slice_max(accuracy) |>\n",
    "    slice_min(neighbors) |>\n",
    "    pull(neighbors)\n",
    "\n",
    "k_accuracies_plot\n",
    "best_k"
   ]
  },
  {
   "cell_type": "code",
   "execution_count": null,
   "id": "4eb8d715-ee91-41df-a5ae-e1dce6da9b91",
   "metadata": {},
   "outputs": [],
   "source": []
  }
 ],
 "metadata": {
  "kernelspec": {
   "display_name": "R",
   "language": "R",
   "name": "ir"
  },
  "language_info": {
   "codemirror_mode": "r",
   "file_extension": ".r",
   "mimetype": "text/x-r-source",
   "name": "R",
   "pygments_lexer": "r",
   "version": "4.3.3"
  }
 },
 "nbformat": 4,
 "nbformat_minor": 5
}
