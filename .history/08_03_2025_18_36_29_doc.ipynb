{
 "cells": [
  {
   "cell_type": "markdown",
   "id": "1ca4f6d7-3770-4180-b5a2-87a9aa1b0570",
   "metadata": {},
   "source": [
    "# DSCI 100 Project: Individual Planning Stage"
   ]
  },
  {
   "cell_type": "code",
   "execution_count": null,
   "id": "21811419-45f3-49f3-abe6-b2f4af837b78",
   "metadata": {},
   "outputs": [],
   "source": [
    "questions\n",
    "\n"
   ]
  },
  {
   "cell_type": "markdown",
   "id": "8dcddb6e-dced-46ae-9c3b-b961aa4a3da4",
   "metadata": {},
   "source": [
    "## (1) Data Description:\n",
    "\n",
    "The \"players\" dataset provides profiles of the players, including demographic information and skill level. It has 196 observations, each of which represents a different player. Its 7 variables are as follows:\n",
    "\n",
    "| Variable Name | Type | Description |\n",
    "| -------- | ------- | ------- |\n",
    "| experience | chr | level of experience the player has with gaming |\n",
    "| subscribe | lgl | whether the player is subscribed to the game's associated newsletter  |\n",
    "| hashedEmail | chr | player's email encrypted as a code |\n",
    "| played_hours | dbl | no. of hours the player has played the game |\n",
    "| name | chr | player's first name |\n",
    "| gender | chr | player's gender |\n",
    "| Age | dbl | player's age |\n",
    "\n",
    "First of all, who are the people in the players database? Also, I've noticed that many of them have 0 hours of gameplay, and I'm curious why that is. On that note, when was this data collected? Is the 0 played hours a consequence of the player being new, or that they've been registered for a while, but did not want to play? Because I thinkn that could definitely affect the interpretation of data if we're looking at player characteristics to predict what demographic we should market to. For example, maybe we neglect X demographic \n",
    "\n",
    "---\n",
    "\n",
    "The \"sessions\" dataset describes the start and end time of each gaming session, as well as the email associated with the player that started the session. It has 1535 observations, each of which represents a gaming session. Its 5 variables are as follows:\n",
    "\n",
    "| Variable Name | Type | Description |\n",
    "| -------- | ------- | ------- |\n",
    "| hashedEmail | chr | player's email encrypted as a code |\n",
    "| start_time | chr | when the player begins the gaming session |\n",
    "| end_time | chr | when the player ends the gaming session |\n",
    "| original_start_time | dbl | start time for the gaming session as milliseconds that has passed since January 1st, 1970 (Unix epoch time)|\n",
    "| original_end_time | dbl | end time for the gaming session as milliseconds that has passed since January 1st, 1970 (Unix epoch time) |\n",
    "\n",
    "I am not really sure what the time zone used for start_time and end_time are; if we were to use that data to compute the time windows players are most active, we would need to know the time zone.\n",
    "\n",
    "Overall, I am also curious about how this data obtained, as that can affect how representative it is of the playerbase. \n",
    "\n",
    "Was it through a survey? If so, was it optional, or mandatory? \n",
    "\n",
    "---\n",
    "---\n",
    "---\n",
    "\n",
    "Using what you have learnt in weeks 1-4, read the dataset, take a look at it, and write a short description about the dataset.\n",
    "Some questions you should try to answer:\n",
    "What is the dataset about?\n",
    "How many variables are there?\n",
    "How many observations are there?\n",
    "\n",
    "\n",
    "Provide a full descriptive summary of the dataset, including information such as summary statistics, issues you see in the data, any other potential issues related to things you cannot directly see, how the data were collected, etc."
   ]
  },
  {
   "cell_type": "code",
   "execution_count": null,
   "id": "9d5e5e8f-9a38-4249-905e-6e9770720ec1",
   "metadata": {},
   "outputs": [],
   "source": [
    "library(tidyverse)\n",
    "\n",
    "players <- read_csv(\"PROJECT/data/players.csv\")\n",
    "sessions <- read_csv(\"PROJECT/data/sessions.csv\")\n",
    "\n",
    "glimpse(players)\n",
    "glimpse(sessions)"
   ]
  },
  {
   "cell_type": "code",
   "execution_count": null,
   "id": "c8263c79-d25e-4701-a93e-cd0708bd892d",
   "metadata": {},
   "outputs": [],
   "source": [
    "\n",
    "# nrow(players)\n",
    "# nrow(sessions)\n",
    "\n",
    "# head(sessions)\n",
    "\n",
    "# players |>\n",
    "#     summarize(across(c(\"played_hours\", \"Age\"), ~ mean(.x, na.rm = TRUE)))\n",
    "\n",
    "# Summary statistics include mean, median, sd, min, max etc.\n",
    "\n",
    "\n",
    "# sessions |>\n",
    "#     summarize(across(c(\"played_hours\", \"Age\"), ~ mean(.x, na.rm = TRUE)))"
   ]
  },
  {
   "cell_type": "markdown",
   "id": "4cf165b2-10ee-44f5-a7a0-9511450cc4cd",
   "metadata": {},
   "source": [
    "## (2) Questions: \n",
    "\n",
    "I will address Question \n",
    "\n",
    "\n",
    "Try to answer these questions now:\n",
    "Identify the main outcome/categorical/label variable in the dataset.\n",
    "How many values/groups are in this variable?\n",
    "How many observations are there in each value/group?\n",
    "Tip: Think about how you are organising your workbook: add more code and markdown cells (and arranged them!) to keep your notebook neat\n",
    "\n",
    "\n",
    "\n",
    "\n",
    "Question 1: What player characteristics and behaviours are most predictive of subscribing to a game-related newsletter, and how do these features differ between various player types?\n",
    "\n",
    "Question 2: We would like to know which \"kinds\" of players are most likely to contribute a large amount of data so that we can target those players in our recruiting efforts.\n",
    "\n",
    "Question 3: We are interested in demand forecasting, namely, what time windows are most likely to have large number of simultaneous players. This is because we need to ensure that the number of licenses on hand is sufficiently large to accommodate all parallel players with high probability. \n",
    "\n",
    "\n",
    "\n",
    "\n",
    "Your question should involve one response variable of interest and one or more explanatory variables, and should be stated as a question. One common question format is: “Can [explanatory variable(s)] predict [response variable] in [dataset]?”, but you are free to format your question as you choose so long as it is clear. Describe clearly how the data will help you address the question of interest. You may need to describe how you plan to wrangle your data to get it into a form where you can apply one of the predictive methods from this class."
   ]
  },
  {
   "cell_type": "code",
   "execution_count": null,
   "id": "9aeb64ab-5c24-4080-bf13-c3b954f6ee97",
   "metadata": {},
   "outputs": [],
   "source": []
  },
  {
   "cell_type": "markdown",
   "id": "47c60bcc-766c-42f8-bb95-d8179c56c7cd",
   "metadata": {},
   "source": [
    "## (3) Exploratory Data Analysis and Visualization\n",
    "\n",
    "\n",
    "Make some visualisations of the outcome variable:\n",
    "What does the distribution of the variable look like?\n",
    "What relationship does it have with some of the other variables?\n",
    "Tip: Try using a range of box plots, scatterplots, bar charts, line graphs, etc.\n",
    "\n",
    "\n",
    "In this assignment, you will:\n",
    "\n",
    "Demonstrate that the dataset can be loaded into R.\n",
    "Do the minimum necessary wrangling to turn your data into a tidy format. Do not do any additional wrangling here; that will happen later during the group project phase.\n",
    "Compute the mean value for each quantitative variable in the players.csv data set. Report the mean values in a table format.\n",
    "Make a few exploratory visualizations of the data to help you understand it.\n",
    "Use our visualization best practices to make high-quality plots (make sure to include labels, titles, units of measurement, etc)\n",
    "Explain any insights you gain from these plots that are relevant to address your question\n",
    "Note: do not perform any predictive analysis here. We are asking for an exploration of the relevant variables to demonstrate that you understand them well before performing any additional modelling, and to identify potential problems you anticipate encountering."
   ]
  },
  {
   "cell_type": "code",
   "execution_count": null,
   "id": "c42201d9-e7f8-4857-926d-079d0c6edaa8",
   "metadata": {},
   "outputs": [],
   "source": []
  },
  {
   "cell_type": "markdown",
   "id": "006b85bd-84fd-4287-a611-f9687f61bc41",
   "metadata": {},
   "source": [
    "## (4) Methods and Plan\n",
    "Propose one method to address your question of interest using the selected dataset and explain why it was chosen. Do not perform any modelling or present results at this stage. We are looking for high-level planning regarding model choice and justifying that choice.\n",
    "\n",
    "In your explanation, respond to the following questions:\n",
    "\n",
    "Why is this method appropriate?\n",
    "Which assumptions are required, if any, to apply the method selected?\n",
    "What are the potential limitations or weaknesses of the method selected?\n",
    "How are you going to compare and select the model?\n",
    "How are you going to process the data to apply the model? For example: Are you splitting the data? How? How many splits? What proportions will you use for the splits? At what stage will you split? Will there be a validation set? Will you use cross validation?\n",
    " "
   ]
  }
 ],
 "metadata": {
  "kernelspec": {
   "display_name": "R",
   "language": "R",
   "name": "ir"
  },
  "language_info": {
   "codemirror_mode": "r",
   "file_extension": ".r",
   "mimetype": "text/x-r-source",
   "name": "R",
   "pygments_lexer": "r",
   "version": "4.3.3"
  }
 },
 "nbformat": 4,
 "nbformat_minor": 5
}
