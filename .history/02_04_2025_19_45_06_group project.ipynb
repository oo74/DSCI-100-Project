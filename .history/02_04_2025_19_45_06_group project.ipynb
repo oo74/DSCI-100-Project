{
 "cells": [
  {
   "cell_type": "markdown",
   "id": "8e3d3138-741b-4309-a184-c2246674d5e5",
   "metadata": {},
   "source": [
    "**Title**"
   ]
  },
  {
   "cell_type": "code",
   "execution_count": null,
   "id": "0651c80f-ab27-41d0-a766-622789711bac",
   "metadata": {},
   "outputs": [],
   "source": []
  },
  {
   "cell_type": "markdown",
   "id": "2ff694c9-74d0-4edd-bf92-889f282409d4",
   "metadata": {},
   "source": [
    "## (1) Introduction:\n",
    "- provide some relevant background information on the topic so that someone unfamiliar with it will be prepared to understand the rest of your report\n",
    "- clearly state the question you tried to answer with your project\n",
    "- identify and fully describe the dataset that was used to answer the question\n"
   ]
  },
  {
   "cell_type": "code",
   "execution_count": null,
   "id": "1d105f53-f981-475b-b862-14f5dc9c4296",
   "metadata": {},
   "outputs": [],
   "source": []
  },
  {
   "cell_type": "markdown",
   "id": "5091928e-22f7-4d6d-bebd-6023d384ee71",
   "metadata": {},
   "source": [
    "## (2) Methods:\n",
    "- describe the methods you used to perform your analysis from beginning to end that narrates the analysis code."
   ]
  },
  {
   "cell_type": "code",
   "execution_count": null,
   "id": "586c790a-6979-4954-9c0c-16afd4e8c5f3",
   "metadata": {},
   "outputs": [],
   "source": []
  },
  {
   "cell_type": "markdown",
   "id": "218b55f7-f0cb-4c62-a7d4-8c07dfabaea7",
   "metadata": {},
   "source": [
    "## (3) Code and Results:\n",
    "\n",
    "- loads data \n",
    "- wrangles and cleans the data to the format necessary for the planned analysis\n",
    "- performs a summary of the data set that is relevant for exploratory data analysis related to the planned analysis \n",
    "- creates a visualization of the dataset that is relevant for exploratory data analysis related to the planned analysis\n",
    "- performs the data analysis\n",
    "- creates a visualization of the analysis \n",
    "- note: all figures should have a figure number and a legend\n"
   ]
  },
  {
   "cell_type": "code",
   "execution_count": null,
   "id": "27d7a0a3-4e49-4aa9-8351-79d886463452",
   "metadata": {},
   "outputs": [],
   "source": [
    "library(tidyverse)\n",
    "library(tidymodels)\n",
    "library(cowplot)\n",
    "library(repr)\n",
    "\n",
    "players_url <- \"https://raw.githubusercontent.com/oo74/DSCI-100-Project/d932a95bab3bbe9a443dcba02939882b0735483f/data/players.csv\"\n",
    "players <- read_csv(players_url) |>\n",
    "    mutate(subscribe = fct_recode(as_factor(subscribe), Yes = \"TRUE\", No = \"FALSE\"))\n",
    "\n",
    "\n",
    "k_vals <- tibble(neighbors = 3:20)\n",
    "\n",
    "players_split <- initial_split(players, prop = 0.75, strata = subscribe)\n",
    "players_train <- training(players_split)\n",
    "players_test <- testing(players_split)\n",
    "\n",
    "players_recipe <- recipe(subscribe ~ played_hours + Age, data = players_train) |>\n",
    "    step_center(all_predictors()) |>\n",
    "    step_scale(all_predictors())\n",
    "\n",
    "players_spec <- nearest_neighbor(weight_func = \"rectangular\", neighbors = tune()) |>\n",
    "    set_engine(\"kknn\") |>\n",
    "    set_mode(\"classification\")\n",
    "\n",
    "vfold_sets <- players_train |>\n",
    "    vfold_cv(v = 5, strata = subscribe)\n",
    "\n",
    "players_best_k <- workflow() |>\n",
    "    add_recipe(players_recipe) |>\n",
    "    add_model(players_spec) |>\n",
    "    tune_grid(resamples = vfold_sets, grid = k_vals) |>\n",
    "    collect_metrics() |>\n",
    "    filter(.metric == \"accuracy\")\n",
    "players_best_k2 <- players_best_k |>\n",
    "    slice_max(mean) |>\n",
    "    pull(neighbors)\n",
    "\n",
    "#for billy: is it ok that i condensed this all?\n",
    "\n",
    "players_best_k\n",
    "\n",
    "players_best_k2 "
   ]
  },
  {
   "cell_type": "markdown",
   "id": "a5adf2a3-2867-49df-a209-268ff3c575d5",
   "metadata": {},
   "source": [
    "## (4) Discussion:\n",
    "- summarize what you found\n",
    "- discuss whether this is what you expected to find?\n",
    "- discuss what impact could such findings have?\n",
    "- discuss what future questions could this lead to?"
   ]
  },
  {
   "cell_type": "code",
   "execution_count": null,
   "id": "344a9dee-63e0-45fb-87dc-ed98ac109159",
   "metadata": {},
   "outputs": [],
   "source": []
  }
 ],
 "metadata": {
  "kernelspec": {
   "display_name": "R",
   "language": "R",
   "name": "ir"
  },
  "language_info": {
   "codemirror_mode": "r",
   "file_extension": ".r",
   "mimetype": "text/x-r-source",
   "name": "R",
   "pygments_lexer": "r",
   "version": "4.3.3"
  }
 },
 "nbformat": 4,
 "nbformat_minor": 5
}
