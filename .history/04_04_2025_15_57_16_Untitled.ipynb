{
 "cells": [
  {
   "cell_type": "markdown",
   "id": "c652f507-2b6f-49d7-812f-0fe56533d4c4",
   "metadata": {},
   "source": [
    "arla's stuff"
   ]
  },
  {
   "cell_type": "markdown",
   "id": "dc6996da-f35d-4fd0-93f3-d438b2014d02",
   "metadata": {},
   "source": [
    "The `subscribe` variable type needs to be converted from the logical to the factor type to be used as label for KNN classification––this can be done using `fct_recode()`. `NA`'s in the data should"
   ]
  },
  {
   "cell_type": "code",
   "execution_count": null,
   "id": "4841e92f-9cce-4da9-b456-6f1df23499ca",
   "metadata": {},
   "outputs": [],
   "source": [
    "library(tidyverse)\n",
    "library(tidymodels)\n",
    "library(cowplot)\n",
    "library(repr)\n",
    "library(themis)\n",
    "\n",
    "set.seed(47)\n",
    "options(repr.plot.width = 14)\n",
    "\n",
    "players_url <- \"https://raw.githubusercontent.com/oo74/DSCI-100-Project/d932a95bab3bbe9a443dcba02939882b0735483f/data/players.csv\"\n",
    "players <- read_csv(players_url) |>\n",
    "    mutate(subscribe = fct_recode(as_factor(subscribe), Yes = \"TRUE\", No = \"FALSE\"))\n",
    "\n",
    "players |>\n",
    "    nrow()\n",
    "players <- players |>\n",
    "    drop_na()\n",
    "\n",
    "# How many obs do we have for each class of subscribe?\n",
    "players |>\n",
    "    group_by(subscribe) |>\n",
    "    summarize(count = n())"
   ]
  },
  {
   "cell_type": "code",
   "execution_count": null,
   "id": "8dcc95b4-7bba-4072-a138-f9fbc4df0f4d",
   "metadata": {},
   "outputs": [],
   "source": []
  }
 ],
 "metadata": {
  "kernelspec": {
   "display_name": "R",
   "language": "R",
   "name": "ir"
  },
  "language_info": {
   "codemirror_mode": "r",
   "file_extension": ".r",
   "mimetype": "text/x-r-source",
   "name": "R",
   "pygments_lexer": "r",
   "version": "4.3.3"
  }
 },
 "nbformat": 4,
 "nbformat_minor": 5
}
