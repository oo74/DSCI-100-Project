{
 "cells": [
  {
   "cell_type": "markdown",
   "id": "c652f507-2b6f-49d7-812f-0fe56533d4c4",
   "metadata": {},
   "source": [
    "arla's stuff\n",
    "\n",
    "personal pronouns?"
   ]
  },
  {
   "cell_type": "markdown",
   "id": "dc6996da-f35d-4fd0-93f3-d438b2014d02",
   "metadata": {},
   "source": [
    "The `subscribe` variable type needs to be converted from the logical to the factor type to be used as label for KNN classification––this can be done using `fct_recode()`. Only 2 observations were removed when observations with `NA` were removed, which should not have a drastic effect on our data. \n",
    "\n",
    "There are 142 individuals subscribed to the game's newsletter, and 52 who are not; the classes are not very balanced. Thus, upsampling should be performed during pre-processing to minimize the impact of unbalanced classes on classification."
   ]
  },
  {
   "cell_type": "code",
   "execution_count": null,
   "id": "4841e92f-9cce-4da9-b456-6f1df23499ca",
   "metadata": {},
   "outputs": [],
   "source": [
    "library(tidyverse)\n",
    "library(tidymodels)\n",
    "library(cowplot)\n",
    "library(repr)\n",
    "library(themis)\n",
    "\n",
    "set.seed(47)\n",
    "options(repr.plot.width = 14)\n",
    "\n",
    "players_url <- \"https://raw.githubusercontent.com/oo74/DSCI-100-Project/d932a95bab3bbe9a443dcba02939882b0735483f/data/players.csv\"\n",
    "players <- read_csv(players_url) |>\n",
    "    mutate(subscribe = fct_recode(as_factor(subscribe), Yes = \"TRUE\", No = \"FALSE\"))\n",
    "\n",
    "nrow(players) - nrow(drop_na(players))\n",
    "players <- drop_na(players)\n",
    "\n",
    "players |>\n",
    "    group_by(subscribe) |>\n",
    "    summarize(count = n())"
   ]
  },
  {
   "cell_type": "markdown",
   "id": "eeaa60da-ea9a-450c-a1fc-665d4a397197",
   "metadata": {},
   "source": [
    "If multiple K's had the same highest accuracy, the lowest K was selected for computational efficiency. \n",
    "\n",
    "what the hell does skip = TRUE do"
   ]
  },
  {
   "cell_type": "code",
   "execution_count": null,
   "id": "8dcc95b4-7bba-4072-a138-f9fbc4df0f4d",
   "metadata": {},
   "outputs": [],
   "source": [
    "k_vals <- tibble(neighbors = 1:10)\n",
    "\n",
    "players_split <- initial_split(players, prop = 0.75, strata = subscribe)\n",
    "players_train <- training(players_split)\n",
    "players_test <- testing(players_split)\n",
    "\n",
    "players_recipe <- recipe(subscribe ~ played_hours + Age, data = players_train) |>\n",
    "    step_upsample(subscribe, over_ratio = 1, skip = FALSE) |>\n",
    "    step_center(all_predictors()) |>\n",
    "    step_scale(all_predictors()) \n",
    "\n",
    "players_spec <- nearest_neighbor(weight_func = \"rectangular\", neighbors = tune()) |>\n",
    "    set_engine(\"kknn\") |>\n",
    "    set_mode(\"classification\")\n",
    "\n",
    "vfold_sets <- players_train |>\n",
    "    vfold_cv(v = 5, strata = subscribe)\n",
    "\n",
    "k_accuracies <- workflow() |>\n",
    "    add_recipe(players_recipe) |>\n",
    "    add_model(players_spec) |>\n",
    "    tune_grid(resamples = vfold_sets, grid = k_vals) |>\n",
    "    collect_metrics() |>\n",
    "    filter(.metric == \"accuracy\") |>\n",
    "    mutate(accuracy = mean) |>\n",
    "    select(neighbors, accuracy)\n",
    "    \n",
    "k_accuracies_plot <- k_accuracies |>\n",
    "    ggplot(aes(x = neighbors, y = accuracy)) +\n",
    "    geom_point() +\n",
    "    geom_line() +\n",
    "    labs(x = \"Neighbors (K)\", y = \"Accuracy\", title = \"Fig. 1: Accuracies associated with various K values.\") +\n",
    "    theme(text = element_text(size = 12))\n",
    "\n",
    "best_k <- k_accuracies |>\n",
    "    slice_max(accuracy) |>\n",
    "    slice_min(neighbors) |>\n",
    "    pull(neighbors)\n",
    "\n",
    "k_accuracies_plot\n",
    "best_k"
   ]
  },
  {
   "cell_type": "code",
   "execution_count": null,
   "id": "4eb8d715-ee91-41df-a5ae-e1dce6da9b91",
   "metadata": {},
   "outputs": [],
   "source": []
  }
 ],
 "metadata": {
  "kernelspec": {
   "display_name": "R",
   "language": "R",
   "name": "ir"
  },
  "language_info": {
   "codemirror_mode": "r",
   "file_extension": ".r",
   "mimetype": "text/x-r-source",
   "name": "R",
   "pygments_lexer": "r",
   "version": "4.3.3"
  }
 },
 "nbformat": 4,
 "nbformat_minor": 5
}
