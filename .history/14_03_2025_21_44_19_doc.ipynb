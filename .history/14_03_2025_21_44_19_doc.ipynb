{
 "cells": [
  {
   "cell_type": "markdown",
   "id": "1ca4f6d7-3770-4180-b5a2-87a9aa1b0570",
   "metadata": {},
   "source": [
    "# DSCI 100 Project: Individual Planning Stage"
   ]
  },
  {
   "cell_type": "code",
   "execution_count": null,
   "id": "74176fdc-31b0-4233-abcb-6fa2296c3526",
   "metadata": {},
   "outputs": [],
   "source": [
    "library(tidyverse)\n",
    "library(cowplot)\n",
    "library(repr)\n",
    "\n",
    "players_url <- \"https://raw.githubusercontent.com/oo74/DSCI-100-Project/d932a95bab3bbe9a443dcba02939882b0735483f/data/players.csv\"\n",
    "sessions_url <- \"https://raw.githubusercontent.com/oo74/DSCI-100-Project/d932a95bab3bbe9a443dcba02939882b0735483f/data/sessions.csv\"\n",
    "\n",
    "players <- read_csv(players_url)\n",
    "sessions <- read_csv(sessions_url)"
   ]
  },
  {
   "cell_type": "markdown",
   "id": "8dcddb6e-dced-46ae-9c3b-b961aa4a3da4",
   "metadata": {},
   "source": [
    "## (1) Data Description:\n",
    "\n",
    "The players.csv file contains 196 observations, each representing a unique player. 7 variables capture the demographics and skill level of each player.\n",
    "\n",
    "Many players report zero hours of gameplay, but it’s unclear whether it's because they’re new or uninterested in playing. For example, if 18-year-olds normally game a lot, but have few gamed hours because they only recently joined the study (not enough time to accumulate hours), it could skew the predicted played hours for similar age individuals. The “experience” variable also raises questions: if it’s self-reported, then designations may be subjective and unreliable as predictors.\n",
    "\n",
    "| Variable Name | Type | Description | No. of Unique Values | Mean | Standard Deviation | Max | Min | Median |\n",
    "| -------- | ------- | ------- | ------- | ------- | ------- | ------- | ------- | ------- |\n",
    "| experience | fct (loaded in as chr) | level of experience the player has with gaming | 5 |\n",
    "| subscribe | lgl | whether the player is subscribed to the game's associated newsletter  |\n",
    "| hashedEmail | chr | player's email encrypted as a code |\n",
    "| played_hours | dbl | no. of hours the player has played on the Minecraft server | | 5.845918 |28.35734 | 0 | 223.1 | 0.1 |\n",
    "| name | chr | player's first name |\n",
    "| gender | fct (loaded in as chr) | player's gender | 7 |\n",
    "| Age | int (loaded in as dbl) | player's age in years | 31 | 20.52062 | 6.174667 | 8 | 50 | 19 |\n",
    "\n",
    "---\n",
    "\n",
    "The sessions.csv file has 1535 observations, each representing a single gaming session, with 5 variables describing the start and end time of each session, as well as the email associated with the player.\n",
    "\n",
    "Time-zones should also be clarified. If the recorded timestamps are in one zone but interpreted in another, the resulting prediction would be off by several hours, leading to incorrect conclusions about when players are actually most active.\n",
    "\n",
    "| Variable Name | Type | Description |\n",
    "| -------- | ------- | ------- |\n",
    "| hashedEmail | chr | player's email encrypted as a code |\n",
    "| start_time | chr | date and time at which the player begins the gaming session |\n",
    "| end_time | chr | date and time at which the player ends the gaming session |\n",
    "| original_start_time | dbl | start time for the gaming session as milliseconds that has passed since January 1st, 1970 (Unix epoch time)|\n",
    "| original_end_time | dbl | end time for the gaming session as milliseconds that has passed since January 1st, 1970 (Unix epoch time) |\n",
    "\n",
    "---\n",
    "\n",
    "It is also unclear whether participation and data submission were mandatory, raising concerns about representativeness if only a subset of players contributed data."
   ]
  },
  {
   "cell_type": "code",
   "execution_count": null,
   "id": "c1219a9b-2f4c-44e2-a15f-d7eb6c20981f",
   "metadata": {},
   "outputs": [],
   "source": [
    "\"No. of unique values for various variable.\"\n",
    "players |>\n",
    "    summarize(experience = n_distinct(experience),\n",
    "            gender = n_distinct(gender),\n",
    "            Age = n_distinct(Age))\n",
    "\n",
    "\"Summary Statistics for played_hours in the players dataset\"\n",
    "players |>\n",
    "    summarize(mean = mean(played_hours, na.rm = TRUE),\n",
    "              SD = sd(played_hours, na.rm = TRUE),\n",
    "              min = min(played_hours, na.rm = TRUE),\n",
    "              max = max(played_hours, na.rm = TRUE),\n",
    "              median = median(played_hours, na.rm = TRUE))\n",
    "\n",
    "\"Summary Statistics for age in the players dataset\"\n",
    "players |>\n",
    "    summarize(mean = mean(Age, na.rm = TRUE),\n",
    "              SD = sd(Age, na.rm = TRUE),\n",
    "              min = min(Age, na.rm = TRUE),\n",
    "              max = max(Age, na.rm = TRUE),\n",
    "              median = median(Age, na.rm = TRUE))\n"
   ]
  },
  {
   "cell_type": "markdown",
   "id": "4cf165b2-10ee-44f5-a7a0-9511450cc4cd",
   "metadata": {},
   "source": [
    "## (2) Question:\n",
    "\n",
    "I will address Question 2: what kinds of players are most likely to contribute a large amount of data? Specifically, I want to see whether **age** and **experience** can predict **number of hours played** (played_hours) based on the **players** dataset. \n",
    " \n",
    "As a part of wrangling, I will only select the variables “Age,” “experience,” and “played_hours” from the players dataset since other variables are irrelevant to my questions. Since “experience” is categorical, I will convert its levels to numerical values to enable regression modeling. I will do so by mutating the experience variable with fct_recode to turn the levels Beginner, Amateur, Regular, Pro, and Veteran to, respectively, 1, 2, 3, 4, and 5. "
   ]
  },
  {
   "cell_type": "markdown",
   "id": "dbf6726a-3ea8-42d6-8693-8733cdebb74a",
   "metadata": {},
   "source": [
    "## 3) Exploratory Data Analysis and Visualization\n",
    "\n",
    "Fig. 1 shows that there is no obvious linear relationship between hours played and either age or experience. Most participants are clustered near 0 hours, while a handful of outliers report much higher played hours. The figure also indicates that the majority of players are between about 15 and 28 years old. Interestingly, Fig. 2 suggests that regular players have the highest average played hours, followed by amateurs, pros, beginners, and finally, veterans. I found this surprising as I assumed that more experienced players (pros and veterans) would play more hours. However, the outliers in Fig. 1 may explain why the regular and amateur players’ average hours were so high: several regulars have between 150–250 hours, and one amateur has around 150 hours, which greatly increases the overall average for both of those groups. Fig. 3 shows that non-binary players tend to have the highest total hours, followed by female, agender, male, those who did not prefer to answer, then other, and two-spirited participants."
   ]
  },
  {
   "cell_type": "code",
   "execution_count": null,
   "id": "c42201d9-e7f8-4857-926d-079d0c6edaa8",
   "metadata": {},
   "outputs": [],
   "source": [
    "options(repr.plot.width = 17, repr.plot.height = 5)\n",
    "\n",
    "age_hours_scatterplot <- players |>\n",
    "    ggplot(aes(x = Age, y = played_hours, color = experience)) +\n",
    "    geom_point(alpha = 0.4) +\n",
    "    labs(x = \"Age (years)\", y = \"Time Played on Server (hrs)\", color = \"Experience\", title = \"Fig. 1: Played hours vs. age of player.\") +\n",
    "    theme(text = element_text(size = 13), legend.position = \"bottom\")\n",
    "\n",
    "experience_hours_barplot <- players |>\n",
    "    group_by(experience) |>\n",
    "    summarize(played_hours = mean(played_hours, na.rm = TRUE)) |>\n",
    "    ggplot(aes(x = fct_reorder(experience, played_hours), y = played_hours)) +\n",
    "    geom_bar(stat = \"identity\") +\n",
    "    labs(x = \"Experience Level\", y = \"Time Played on Server (hrs)\", title = \"Fig. 2: Mean no. of hours played by players of each experience level.\") +\n",
    "    theme(text = element_text(size = 10), axis.text= element_text(size = 14))\n",
    "\n",
    "gender_hours_barplot <- players |>\n",
    "    group_by(gender) |>\n",
    "    summarize(played_hours = mean(played_hours, na.rm = TRUE)) |>\n",
    "    ggplot(aes(x = fct_reorder(gender, played_hours), y = played_hours)) +\n",
    "    geom_bar(stat = \"identity\") +\n",
    "    labs(x = \"Gender\", y = \"Time Played on Server (hrs)\", title = \"Fig. 3: Mean no. of hours played by each gender.\") +\n",
    "    theme(text = element_text(size = 13), axis.text.x = element_text(angle = 50, hjust = 1))\n",
    "\n",
    "plot_grid(age_hours_scatterplot, experience_hours_barplot, gender_hours_barplot, ncol = 3)"
   ]
  },
  {
   "cell_type": "markdown",
   "id": "006b85bd-84fd-4287-a611-f9687f61bc41",
   "metadata": {},
   "source": [
    "## (4) Methods and Plan\n",
    "\n",
    "Since the response variable is numeric, I will use regression to predict a player’s total hours of gameplay from their age and experience level. More specifically, because there are no clear linear relationships, KNN is more suitable than linear regression. KNN does not have many assumptions beyond the idea that observations close together in the multi-dimensional space formed by predictor variables (age and experience) have similar response variables, KNN does not have many assumptions. I will center and scale both predictors so that age and experience contribute equally to distance calculations. \n",
    "\n",
    "A KNN model may overfit or underfit data based on the K. \n",
    "\n",
    "I will split 75% of the data into a training set and reserve the remaining 25% as a test set to evaluate performance on unseen data. Modeling and testing with th the same data used for training can produce overly optimistic results, as the model may simply memorize patterns in the training set rather than learning the underlying relationship.\n",
    "\n",
    "\n",
    "\n",
    "\n",
    "\n",
    "I will split 75% of the data into a training set and 25% into a test set so that we can test the model on unseen data, as training and testing a model on the same data may produce an inaccurate accuracy as the model may simply be getting labels right because of memorizing them, rather than because it actually portrays the underlying relationship.\n",
    "\n",
    "To find the best number of neighbors K, I will perform 5-fold cross-validation on the training set and select the K that minimizes the RMSE. The range of K's I will test will be from 1 to 10 because (). I will use 5-fold becausse it is small enough to be computational efficient and beacuse the dataset with only 196 observations is small, so splitting too much will (), but 5 is also big enough to estimate model performance. Through this, I can compute the average RMSE for each K. After selecting the best K, I will finalize the model with the best K and evaluate how well it predicts the testing data based on the RMSPE."
   ]
  },
  {
   "cell_type": "code",
   "execution_count": null,
   "id": "83d878c1-e9ea-4bc5-a621-68d421a431cb",
   "metadata": {},
   "outputs": [],
   "source": []
  }
 ],
 "metadata": {
  "kernelspec": {
   "display_name": "R",
   "language": "R",
   "name": "ir"
  },
  "language_info": {
   "codemirror_mode": "r",
   "file_extension": ".r",
   "mimetype": "text/x-r-source",
   "name": "R",
   "pygments_lexer": "r",
   "version": "4.3.3"
  }
 },
 "nbformat": 4,
 "nbformat_minor": 5
}
