{
 "cells": [
  {
   "cell_type": "markdown",
   "id": "b4a32987-0023-457a-ae11-5bbfc46a418e",
   "metadata": {},
   "source": [
    "### Summarize what we found:"
   ]
  },
  {
   "cell_type": "markdown",
   "id": "6932728a-199c-4471-abe4-3ec1eb09533d",
   "metadata": {},
   "source": [
    "We used the KNN classification model to explore whether age and number of hours played can predict the subscription of a player. The above left plot is the real distribution of subscribers and non-subscribers based on the player characteristics of age and played hours. It demonstrates that majority of users played very few hours, mostly are under 15 hours. But there are a few outliers with played hours greater than 50 or even 200. And the majority of players are aged between 15 and 25. We can find that subscribers tend to have more played hours and are relatively young (between 15-25). The right plot is the KNN model to predict whether a player will subscribe the newsletter of a game. After tuning k using 5-fold cross-validation, the model achieved its highest accuracy at a specific value of k. And we find that the model performs reasonable well, especially in identifying subscribers. However, there are still limitations, such as on identifying non-subscribers."
   ]
  },
  {
   "cell_type": "markdown",
   "id": "e3e307b4-8035-4407-a630-a978995f4241",
   "metadata": {},
   "source": [
    "### Is This What You Expected to Find?"
   ]
  },
  {
   "cell_type": "markdown",
   "id": "6f2c83e4-7cdf-4792-869a-6cdf909b05b5",
   "metadata": {},
   "source": [
    "Yes, mostly is what we expected to find. We expected that the player who are more younger or have more played hours tend to subscribe the newsletter of the game. The KNN model prediction is conform to what we expect. We expected some predictive power from simple features like age and played hours, and also more balanced performance across both classes. The imbalance in prediction quality (KNN often performs better on the majority class) is a known characteristic of KNN, so this result is realistic."
   ]
  },
  {
   "cell_type": "markdown",
   "id": "5d255993-ed3f-4f88-9e61-07aaa252d0a1",
   "metadata": {},
   "source": [
    "### what impact could such findings have?"
   ]
  },
  {
   "cell_type": "markdown",
   "id": "eb5197a4-be0f-4410-8e78-9620275ee63c",
   "metadata": {},
   "source": [
    "This model demonstrates the player characteristic could help the game producer to predict whether players will subscribe the newsletters. This could help them to find their target consumers, improve the game experience in time, and update the content that players are interested in."
   ]
  },
  {
   "cell_type": "markdown",
   "id": "251e2d2f-e633-4b46-8d62-d13db0551a75",
   "metadata": {},
   "source": [
    "### what future questions could this lead to?"
   ]
  },
  {
   "cell_type": "markdown",
   "id": "2fd70873-8192-4851-87c3-48234264b6a5",
   "metadata": {},
   "source": [
    "Can adding more player characteristics improve the KNN model performance? (Such as gender and how experienced the player is)\n",
    "\n",
    "How does players behavior changed after subscribing?"
   ]
  },
  {
   "cell_type": "code",
   "execution_count": null,
   "id": "2d4e59bd-afdd-400c-9083-aa020c6bca37",
   "metadata": {},
   "outputs": [],
   "source": []
  }
 ],
 "metadata": {
  "kernelspec": {
   "display_name": "R",
   "language": "R",
   "name": "ir"
  },
  "language_info": {
   "codemirror_mode": "r",
   "file_extension": ".r",
   "mimetype": "text/x-r-source",
   "name": "R",
   "pygments_lexer": "r",
   "version": "4.3.3"
  }
 },
 "nbformat": 4,
 "nbformat_minor": 5
}
